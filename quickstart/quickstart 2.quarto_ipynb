{
  "cells": [
    {
      "cell_type": "markdown",
      "metadata": {},
      "source": [
        "---\n",
        "title:\n",
        "author: Sam Buchanan\n",
        "format:\n",
        "    html:\n",
        "        code-fold: show\n",
        "---\n",
        "\n",
        "\n",
        "## Code imports\n"
      ],
      "id": "be343d5f"
    },
    {
      "cell_type": "code",
      "metadata": {},
      "source": [
        "import jax\n",
        "import jax.numpy as jnp"
      ],
      "id": "577a6490",
      "execution_count": null,
      "outputs": []
    },
    {
      "cell_type": "code",
      "metadata": {},
      "source": [
        "from jax import jacfwd, jacrev, jit"
      ],
      "id": "9bf4294b",
      "execution_count": null,
      "outputs": []
    },
    {
      "cell_type": "markdown",
      "metadata": {},
      "source": [
        "## Hessian example with timing\n"
      ],
      "id": "1e145b34"
    },
    {
      "cell_type": "code",
      "metadata": {},
      "source": [
        "def sum_logistic(x):\n",
        "  return jnp.sum(1.0 / (1.0 + jnp.exp(-x)))\n",
        "\n",
        "def hessian(fun):\n",
        "  return jit(jacfwd(jacrev(fun)))\n",
        "\n",
        "x_small = jnp.arange(3.)\n",
        "print(hessian(sum_logistic)(x_small))"
      ],
      "id": "47635f2e",
      "execution_count": null,
      "outputs": []
    }
  ],
  "metadata": {
    "kernelspec": {
      "name": "python3",
      "language": "python",
      "display_name": "Python 3 (ipykernel)",
      "path": "/Users/sdbuch/Library/Mobile Documents/com~apple~CloudDocs/Desktop/projects/github/jax-tuts/.venv/share/jupyter/kernels/python3"
    }
  },
  "nbformat": 4,
  "nbformat_minor": 5
}